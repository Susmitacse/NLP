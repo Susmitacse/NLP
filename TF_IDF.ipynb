{
  "nbformat": 4,
  "nbformat_minor": 0,
  "metadata": {
    "colab": {
      "name": "TF-IDF.ipynb",
      "provenance": [],
      "collapsed_sections": [],
      "authorship_tag": "ABX9TyNeK1K0c3mVIoa5p3z9j/UI"
    },
    "kernelspec": {
      "name": "python3",
      "display_name": "Python 3"
    }
  },
  "cells": [
    {
      "cell_type": "code",
      "metadata": {
        "id": "dF6biKX3Iseq"
      },
      "source": [
        "import nltk\n"
      ],
      "execution_count": null,
      "outputs": []
    },
    {
      "cell_type": "code",
      "metadata": {
        "id": "BjykEfj5DaUr",
        "colab": {
          "base_uri": "https://localhost:8080/",
          "height": 136
        },
        "outputId": "e2a13d8b-652a-4d84-9434-4ee2b448fcf7"
      },
      "source": [
        "nltk.download('stopwords')\n",
        "nltk.download('wordnet')\n",
        "nltk.download('punkt')"
      ],
      "execution_count": null,
      "outputs": [
        {
          "output_type": "stream",
          "text": [
            "[nltk_data] Downloading package stopwords to /root/nltk_data...\n",
            "[nltk_data]   Unzipping corpora/stopwords.zip.\n",
            "[nltk_data] Downloading package wordnet to /root/nltk_data...\n",
            "[nltk_data]   Unzipping corpora/wordnet.zip.\n",
            "[nltk_data] Downloading package punkt to /root/nltk_data...\n",
            "[nltk_data]   Unzipping tokenizers/punkt.zip.\n"
          ],
          "name": "stdout"
        },
        {
          "output_type": "execute_result",
          "data": {
            "text/plain": [
              "True"
            ]
          },
          "metadata": {
            "tags": []
          },
          "execution_count": 9
        }
      ]
    },
    {
      "cell_type": "code",
      "metadata": {
        "id": "plGUIOzcI_s5"
      },
      "source": [
        "paragraph=\"\"\"Thank you all so very much. Thank you to the Academy. \n",
        "               Thank you to all of you in this room. I have to congratulate \n",
        "               the other incredible nominees this year. The Revenant was \n",
        "               the product of the tireless efforts of an unbelievable cast\n",
        "               and crew. First off, to my brother in this endeavor, Mr. Tom \n",
        "               Hardy. Tom, your talent on screen can only be surpassed by \n",
        "               your friendship off screen … thank you for creating a t\n",
        "               ranscendent cinematic experience. Thank you to everybody at \n",
        "               Fox and New Regency … my entire team. I have to thank \n",
        "               everyone from the very onset of my career … To my parents; \n",
        "               none of this would be possible without you. And to my \n",
        "               friends, I love you dearly; you know who you are. And lastly,\n",
        "               I just want to say this: Making The Revenant was about\n",
        "               man's relationship to the natural world. A world that we\n",
        "               collectively felt in 2015 as the hottest year in recorded\n",
        "               history. Our production needed to move to the southern\n",
        "               tip of this planet just to be able to find snow. Climate\n",
        "               change is real, it is happening right now. It is the most\n",
        "               urgent threat facing our entire species, and we need to work\n",
        "               collectively together and stop procrastinating. We need to\n",
        "               support leaders around the world who do not speak for the \n",
        "               big polluters, but who speak for all of humanity, for the\n",
        "               indigenous people of the world, for the billions and \n",
        "               billions of underprivileged people out there who would be\n",
        "               most affected by this. For our children’s children, and \n",
        "               for those people out there whose voices have been drowned\n",
        "               out by the politics of greed. I thank you all for this \n",
        "               amazing award tonight. Let us not take this planet for \n",
        "               granted. I do not take tonight for granted. Thank you so very much.\"\"\""
      ],
      "execution_count": null,
      "outputs": []
    },
    {
      "cell_type": "code",
      "metadata": {
        "id": "PzFS01hyJNMs"
      },
      "source": [
        "import re"
      ],
      "execution_count": null,
      "outputs": []
    },
    {
      "cell_type": "code",
      "metadata": {
        "id": "bxeMfLLnJNeM"
      },
      "source": [
        "from nltk.corpus import stopwords"
      ],
      "execution_count": null,
      "outputs": []
    },
    {
      "cell_type": "code",
      "metadata": {
        "id": "5uu7ZTcmJWmN"
      },
      "source": [
        "from nltk.stem import WordNetLemmatizer"
      ],
      "execution_count": null,
      "outputs": []
    },
    {
      "cell_type": "code",
      "metadata": {
        "id": "xK6DtFXWJWsv"
      },
      "source": [
        "wordnet=WordNetLemmatizer()"
      ],
      "execution_count": null,
      "outputs": []
    },
    {
      "cell_type": "code",
      "metadata": {
        "id": "zp5I06JCJWvA",
        "colab": {
          "base_uri": "https://localhost:8080/",
          "height": 394
        },
        "outputId": "b17bcf69-62a0-4cd4-d873-ddd32d67b3e6"
      },
      "source": [
        "sentences=nltk.sent_tokenize(paragraph)\n",
        "sentences"
      ],
      "execution_count": null,
      "outputs": [
        {
          "output_type": "execute_result",
          "data": {
            "text/plain": [
              "['Thank you all so very much.',\n",
              " 'Thank you to the Academy.',\n",
              " 'Thank you to all of you in this room.',\n",
              " 'I have to congratulate \\n               the other incredible nominees this year.',\n",
              " 'The Revenant was \\n               the product of the tireless efforts of an unbelievable cast\\n               and crew.',\n",
              " 'First off, to my brother in this endeavor, Mr. Tom \\n               Hardy.',\n",
              " 'Tom, your talent on screen can only be surpassed by \\n               your friendship off screen … thank you for creating a t\\n               ranscendent cinematic experience.',\n",
              " 'Thank you to everybody at \\n               Fox and New Regency … my entire team.',\n",
              " 'I have to thank \\n               everyone from the very onset of my career … To my parents; \\n               none of this would be possible without you.',\n",
              " 'And to my \\n               friends, I love you dearly; you know who you are.',\n",
              " \"And lastly,\\n               I just want to say this: Making The Revenant was about\\n               man's relationship to the natural world.\",\n",
              " 'A world that we\\n               collectively felt in 2015 as the hottest year in recorded\\n               history.',\n",
              " 'Our production needed to move to the southern\\n               tip of this planet just to be able to find snow.',\n",
              " 'Climate\\n               change is real, it is happening right now.',\n",
              " 'It is the most\\n               urgent threat facing our entire species, and we need to work\\n               collectively together and stop procrastinating.',\n",
              " 'We need to\\n               support leaders around the world who do not speak for the \\n               big polluters, but who speak for all of humanity, for the\\n               indigenous people of the world, for the billions and \\n               billions of underprivileged people out there who would be\\n               most affected by this.',\n",
              " 'For our children’s children, and \\n               for those people out there whose voices have been drowned\\n               out by the politics of greed.',\n",
              " 'I thank you all for this \\n               amazing award tonight.',\n",
              " 'Let us not take this planet for \\n               granted.',\n",
              " 'I do not take tonight for granted.',\n",
              " 'Thank you so very much.']"
            ]
          },
          "metadata": {
            "tags": []
          },
          "execution_count": 17
        }
      ]
    },
    {
      "cell_type": "code",
      "metadata": {
        "id": "YV_cZLoMKmKR",
        "colab": {
          "base_uri": "https://localhost:8080/",
          "height": 34
        },
        "outputId": "ee4d040d-f454-4e35-d542-5379e17ad145"
      },
      "source": [
        "len(sentences)"
      ],
      "execution_count": null,
      "outputs": [
        {
          "output_type": "execute_result",
          "data": {
            "text/plain": [
              "21"
            ]
          },
          "metadata": {
            "tags": []
          },
          "execution_count": 19
        }
      ]
    },
    {
      "cell_type": "code",
      "metadata": {
        "id": "YBFV6ZfOJWzF"
      },
      "source": [
        "corpus=[]"
      ],
      "execution_count": null,
      "outputs": []
    },
    {
      "cell_type": "code",
      "metadata": {
        "id": "nE8TrELZJW6v"
      },
      "source": [
        "for i in range(len(sentences)):\n",
        "  review = re.sub('[^a-zA-Z]', ' ', sentences[i])\n",
        "  review = review.lower()\n",
        "  review = review.split()\n",
        "  review = [wordnet.lemmatize(word) for word in review if not word in set(stopwords.words('english'))]\n",
        "  review = ' '.join(review)\n",
        "  corpus.append(review)\n",
        "\n",
        "\n"
      ],
      "execution_count": null,
      "outputs": []
    },
    {
      "cell_type": "code",
      "metadata": {
        "id": "XiFoU-kMJW-t",
        "colab": {
          "base_uri": "https://localhost:8080/",
          "height": 374
        },
        "outputId": "9a44dc57-d4a3-4bd7-d277-75d55cdab496"
      },
      "source": [
        "corpus"
      ],
      "execution_count": null,
      "outputs": [
        {
          "output_type": "execute_result",
          "data": {
            "text/plain": [
              "['thank much',\n",
              " 'thank academy',\n",
              " 'thank room',\n",
              " 'congratulate incredible nominee year',\n",
              " 'revenant product tireless effort unbelievable cast crew',\n",
              " 'first brother endeavor mr tom hardy',\n",
              " 'tom talent screen surpassed friendship screen thank creating ranscendent cinematic experience',\n",
              " 'thank everybody fox new regency entire team',\n",
              " 'thank everyone onset career parent none would possible without',\n",
              " 'friend love dearly know',\n",
              " 'lastly want say making revenant man relationship natural world',\n",
              " 'world collectively felt hottest year recorded history',\n",
              " 'production needed move southern tip planet able find snow',\n",
              " 'climate change real happening right',\n",
              " 'urgent threat facing entire specie need work collectively together stop procrastinating',\n",
              " 'need support leader around world speak big polluter speak humanity indigenous people world billion billion underprivileged people would affected',\n",
              " 'child child people whose voice drowned politics greed',\n",
              " 'thank amazing award tonight',\n",
              " 'let u take planet granted',\n",
              " 'take tonight granted',\n",
              " 'thank much']"
            ]
          },
          "metadata": {
            "tags": []
          },
          "execution_count": 23
        }
      ]
    },
    {
      "cell_type": "code",
      "metadata": {
        "id": "8rZmCW0EJXBR"
      },
      "source": [
        "# Creating the TF-IDF\n",
        "\n",
        "from sklearn.feature_extraction.text import TfidfVectorizer\n",
        "cv= TfidfVectorizer()\n",
        "X =cv.fit_transform(corpus).toarray()"
      ],
      "execution_count": null,
      "outputs": []
    },
    {
      "cell_type": "code",
      "metadata": {
        "id": "HAkDyCriJXEr",
        "colab": {
          "base_uri": "https://localhost:8080/",
          "height": 238
        },
        "outputId": "ff79ecb1-3666-4359-c534-2037bf576d5e"
      },
      "source": [
        "X"
      ],
      "execution_count": null,
      "outputs": [
        {
          "output_type": "execute_result",
          "data": {
            "text/plain": [
              "array([[0.        , 0.        , 0.        , ..., 0.        , 0.        ,\n",
              "        0.        ],\n",
              "       [0.        , 0.87349093, 0.        , ..., 0.        , 0.        ,\n",
              "        0.        ],\n",
              "       [0.        , 0.        , 0.        , ..., 0.        , 0.        ,\n",
              "        0.        ],\n",
              "       ...,\n",
              "       [0.        , 0.        , 0.        , ..., 0.        , 0.        ,\n",
              "        0.        ],\n",
              "       [0.        , 0.        , 0.        , ..., 0.        , 0.        ,\n",
              "        0.        ],\n",
              "       [0.        , 0.        , 0.        , ..., 0.        , 0.        ,\n",
              "        0.        ]])"
            ]
          },
          "metadata": {
            "tags": []
          },
          "execution_count": 30
        }
      ]
    }
  ]
}