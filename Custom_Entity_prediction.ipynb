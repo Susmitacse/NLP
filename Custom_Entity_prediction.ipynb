{
  "nbformat": 4,
  "nbformat_minor": 0,
  "metadata": {
    "colab": {
      "name": "Custom_Entity_prediction.ipynb",
      "provenance": [],
      "authorship_tag": "ABX9TyPuIA0kRyQWA8N3kdHwqDBu"
    },
    "kernelspec": {
      "display_name": "Python 3",
      "name": "python3"
    }
  },
  "cells": [
    {
      "cell_type": "code",
      "metadata": {
        "id": "DZdNxxEpHdo5"
      },
      "source": [
        "import spacy"
      ],
      "execution_count": null,
      "outputs": []
    },
    {
      "cell_type": "code",
      "metadata": {
        "colab": {
          "base_uri": "https://localhost:8080/"
        },
        "id": "0woXVN2MH--U",
        "outputId": "935d3baa-4eef-426c-9004-1cb2fd4b5eb5"
      },
      "source": [
        "nlp = spacy.load('en_core_web_sm')\n",
        "nlp.pipe_names"
      ],
      "execution_count": null,
      "outputs": [
        {
          "output_type": "execute_result",
          "data": {
            "text/plain": [
              "['tagger', 'parser', 'ner']"
            ]
          },
          "metadata": {
            "tags": []
          },
          "execution_count": 2
        }
      ]
    },
    {
      "cell_type": "code",
      "metadata": {
        "id": "ZxVBWLV5IKmZ"
      },
      "source": [
        "doc = nlp(\"Australia wants to force Facebook and Google to pay media companies for news.\")"
      ],
      "execution_count": null,
      "outputs": []
    },
    {
      "cell_type": "code",
      "metadata": {
        "colab": {
          "base_uri": "https://localhost:8080/"
        },
        "id": "mOGEIFbXIKoS",
        "outputId": "cdbc1011-4fd3-482d-900c-27f58ea40a18"
      },
      "source": [
        "for ent in doc.ents:\n",
        "  print(ent.text, ent.start_char, ent.end_char, ent.label_)"
      ],
      "execution_count": null,
      "outputs": [
        {
          "output_type": "stream",
          "text": [
            "Australia 0 9 GPE\n",
            "Facebook and Google 25 44 ORG\n"
          ],
          "name": "stdout"
        }
      ]
    },
    {
      "cell_type": "code",
      "metadata": {
        "id": "B0NUbNBtIKrl"
      },
      "source": [
        "doc = nlp(\" I do not have money to pay in my credit card.\")"
      ],
      "execution_count": null,
      "outputs": []
    },
    {
      "cell_type": "code",
      "metadata": {
        "id": "BhsvScBqIKt3"
      },
      "source": [
        "for ent in doc.ents:\n",
        "  print(ent.text, ent.start_char, ent.end_char, ent.label_)"
      ],
      "execution_count": null,
      "outputs": []
    },
    {
      "cell_type": "code",
      "metadata": {
        "id": "rmB6EM1eIKxe"
      },
      "source": [
        "train= [\n",
        "        (\"Money transfer from my checking account is not working\", {\"entities\": [(6, 13, \"ACTITVITY\"), (23, 39, \"PRODUCT\")]}),\n",
        "        (\"I want to check balance is my savings account\", {\"entities\": [(16, 23, \"ACTITVITY\"), (30, 45, \"PRODUCT\")]}),\n",
        "        (\"I suspect a fraud in my credit card account\", {\"entities\": [(12, 17, \"ACTITVITY\"), (24, 35, \"PRODUCT\")]}),\n",
        "        (\"I am here for openmg a new savings account\", {\"entities\": [(14, 21, \"ACTITVITY\"), (28, 43, \"PRODUCT\")]}),\n",
        "        (\"Your mortgage is in delinquent status\", {\"entities\": [(20, 30, \"ACTITVITY\"), (5, 13, \"PRODUCT\")]}),\n",
        "        (\"Your credit card is in past due status\", {\"entities\": [(23, 31, \"ACTITVITY\"), (5, 16, \"PRODUCT\")]}),\n",
        "        (\"My loan account is still not approved and funded\", {\"entities\": [(25, 37, \"ACTITVITY\"), (3, 15, \"PRODUCT\"), (42, 48,\"ACTIVITY\")]})\n",
        "\n",
        "\n",
        "]"
      ],
      "execution_count": null,
      "outputs": []
    },
    {
      "cell_type": "code",
      "metadata": {
        "id": "-rirV0UWl7JM"
      },
      "source": [
        " train= [\n",
        "        \n",
        "(\"The-well has attained vertical course at 950m (MD).\",{\"entities\":[(4,8,\"well\"),(41,50,\"Depth\")]}),\n",
        "(\"The well was drilled directionally down to 2577m(MD) with a horizontal drift of 181m, towards N307.42 with a vertical shortening of 26:95m.\",{\"entities\":[(43,52,\"Depth\"),(60,84,\"Depth\")]}),\n",
        "(\"Subsequently Nannila Fm was included as an additional objective and the target depth was extended from 2100m (TVD) to 2550m (TVD).\",{\"entities\":[(0,0,\"well\"),(0,0,\"Location\"),(0,0,\"Soil/Sand type\"),(0,0,\"Date\"),(0,0,\"Field\"),(13,23,\"Process\"),(118,129,\"Depth\"),(103,114,\"Depth\")]}),\n",
        "(\"independent mound feature, mapped northwest ofVijayapuram field. \",{\"entities\":[(46,63,\"Field\")]}),\n",
        "(\"exploratory test well, to probe the extension of Upper Kamalapuram pay sands in an \",{\"entities\":[(55,66,\"Location\")]}),\n",
        "(\"The well VJ#12 was released as VJAM during 461h REXB held in May, 2001, as an \",{\"entities\":[(4,14,\"well\"),(31,36,\"well\"),(60,70,\"Date\")]}),\n",
        "\n",
        "]"
      ],
      "execution_count": null,
      "outputs": []
    },
    {
      "cell_type": "code",
      "metadata": {
        "colab": {
          "base_uri": "https://localhost:8080/"
        },
        "id": "w_cKfEFvVqqi",
        "outputId": "d8500c3b-c714-43a3-e8dd-2738a3898dec"
      },
      "source": [
        "nlp.pipe_names"
      ],
      "execution_count": null,
      "outputs": [
        {
          "output_type": "execute_result",
          "data": {
            "text/plain": [
              "['tagger', 'parser', 'ner']"
            ]
          },
          "metadata": {
            "tags": []
          },
          "execution_count": 15
        }
      ]
    },
    {
      "cell_type": "code",
      "metadata": {
        "id": "eBEI1n9jVq39"
      },
      "source": [
        "ner = nlp.get_pipe(\"ner\")"
      ],
      "execution_count": null,
      "outputs": []
    },
    {
      "cell_type": "code",
      "metadata": {
        "id": "UFCh37uCVq_s"
      },
      "source": [
        "for _, annotations in train:\n",
        "  for ent in annotations.get(\"entities\"):\n",
        "    ner.add_label(ent[2]) "
      ],
      "execution_count": null,
      "outputs": []
    },
    {
      "cell_type": "code",
      "metadata": {
        "id": "LMpmt1S_WLlv"
      },
      "source": [
        "disable_pipes = [pipe for  pipe in nlp.pipe_names if pipe!=\"ner\"]"
      ],
      "execution_count": null,
      "outputs": []
    },
    {
      "cell_type": "code",
      "metadata": {
        "colab": {
          "base_uri": "https://localhost:8080/"
        },
        "id": "nfd56ihEWLpo",
        "outputId": "bf388824-c484-4cc2-efc6-6ab4a048d0d6"
      },
      "source": [
        "import random\n",
        "from spacy.util import minibatch, compounding\n",
        "from pathlib import Path\n",
        "\n",
        "with nlp.disable_pipes(*disable_pipes):\n",
        "  optimizer= nlp.resume_training()\n",
        "\n",
        "  for iteration in range(100):\n",
        "    random.shuffle(train)\n",
        "    losses={}\n",
        "\n",
        "    batches = minibatch(train, size=compounding(1.0, 4.0, 1.001))\n",
        "    for batch in batches:\n",
        "      text, annotation= zip(*batch)\n",
        "      nlp.update(\n",
        "          text,\n",
        "          annotation,\n",
        "          drop=0.5,\n",
        "          losses=losses,\n",
        "          sgd=optimizer\n",
        "      )\n",
        "\n",
        "    print(\"Losses\", losses)"
      ],
      "execution_count": null,
      "outputs": [
        {
          "output_type": "stream",
          "text": [
            "Losses {'ner': 43.804768308997154}\n",
            "Losses {'ner': 45.0415405058302}\n",
            "Losses {'ner': 40.021081493468955}\n",
            "Losses {'ner': 48.11421556258574}\n",
            "Losses {'ner': 44.55686783604324}\n",
            "Losses {'ner': 46.19955328293145}\n",
            "Losses {'ner': 41.15486924396828}\n",
            "Losses {'ner': 41.55512096523307}\n",
            "Losses {'ner': 45.29748507589102}\n",
            "Losses {'ner': 42.66194175291457}\n",
            "Losses {'ner': 48.398946048808284}\n",
            "Losses {'ner': 42.73974213807378}\n",
            "Losses {'ner': 48.39990576507989}\n",
            "Losses {'ner': 43.74576899083331}\n",
            "Losses {'ner': 50.904925660201116}\n",
            "Losses {'ner': 43.22486370895058}\n",
            "Losses {'ner': 44.25557908951305}\n",
            "Losses {'ner': 43.493376882979646}\n",
            "Losses {'ner': 43.750007469228876}\n",
            "Losses {'ner': 40.79550381676631}\n",
            "Losses {'ner': 48.95348909520544}\n",
            "Losses {'ner': 48.848540947859874}\n",
            "Losses {'ner': 37.15199952106923}\n",
            "Losses {'ner': 45.8776195300743}\n",
            "Losses {'ner': 46.26134414598346}\n",
            "Losses {'ner': 39.487639429979026}\n",
            "Losses {'ner': 44.727355156093836}\n",
            "Losses {'ner': 44.241080390289426}\n",
            "Losses {'ner': 44.63578118915029}\n",
            "Losses {'ner': 44.08546330500394}\n",
            "Losses {'ner': 42.12303291680291}\n",
            "Losses {'ner': 48.97966362652369}\n",
            "Losses {'ner': 50.00617747602519}\n",
            "Losses {'ner': 40.4196154975798}\n",
            "Losses {'ner': 45.01329299947247}\n",
            "Losses {'ner': 48.5804196204117}\n",
            "Losses {'ner': 40.02031860174611}\n",
            "Losses {'ner': 42.17597722559003}\n",
            "Losses {'ner': 43.27512803530408}\n",
            "Losses {'ner': 47.14215403655544}\n",
            "Losses {'ner': 39.71751349186525}\n",
            "Losses {'ner': 41.293172355159186}\n",
            "Losses {'ner': 37.8883096061345}\n",
            "Losses {'ner': 44.75785414787242}\n",
            "Losses {'ner': 45.48344669677317}\n",
            "Losses {'ner': 41.807516659784596}\n",
            "Losses {'ner': 45.26681699696928}\n",
            "Losses {'ner': 40.58843575865558}\n",
            "Losses {'ner': 47.41020606204893}\n",
            "Losses {'ner': 47.36114267422818}\n",
            "Losses {'ner': 38.29623507629731}\n",
            "Losses {'ner': 45.273520416230895}\n",
            "Losses {'ner': 38.53850711986888}\n",
            "Losses {'ner': 39.352252277643856}\n",
            "Losses {'ner': 46.11188001425762}\n",
            "Losses {'ner': 46.892797642398364}\n",
            "Losses {'ner': 37.87695264746071}\n",
            "Losses {'ner': 45.65806898692972}\n",
            "Losses {'ner': 37.67502882808401}\n",
            "Losses {'ner': 35.70787415280756}\n",
            "Losses {'ner': 35.460378575324285}\n",
            "Losses {'ner': 42.153501824708655}\n",
            "Losses {'ner': 47.85989535522458}\n",
            "Losses {'ner': 45.22055762071088}\n",
            "Losses {'ner': 48.054235972696915}\n",
            "Losses {'ner': 40.03318858214038}\n",
            "Losses {'ner': 42.45384869608097}\n",
            "Losses {'ner': 45.37870689457293}\n",
            "Losses {'ner': 44.07949277386011}\n",
            "Losses {'ner': 48.67386037170945}\n",
            "Losses {'ner': 38.20407590592288}\n",
            "Losses {'ner': 35.10941340948193}\n",
            "Losses {'ner': 40.50252206718528}\n",
            "Losses {'ner': 41.735413424890794}\n",
            "Losses {'ner': 35.37777040366111}\n",
            "Losses {'ner': 44.959318254143}\n",
            "Losses {'ner': 37.91374104441468}\n",
            "Losses {'ner': 49.18770058096379}\n",
            "Losses {'ner': 47.84567253044224}\n",
            "Losses {'ner': 44.878634983091615}\n",
            "Losses {'ner': 43.5160873456789}\n",
            "Losses {'ner': 41.25302729685154}\n",
            "Losses {'ner': 38.8357367888384}\n",
            "Losses {'ner': 35.93038280247811}\n",
            "Losses {'ner': 42.07432431903832}\n",
            "Losses {'ner': 43.02042876726637}\n",
            "Losses {'ner': 42.76432639591076}\n",
            "Losses {'ner': 46.204963594009214}\n",
            "Losses {'ner': 32.17993375865626}\n",
            "Losses {'ner': 42.34547607943121}\n",
            "Losses {'ner': 42.09967389533767}\n",
            "Losses {'ner': 50.587553346328946}\n",
            "Losses {'ner': 41.45523803841206}\n",
            "Losses {'ner': 44.198911750965635}\n",
            "Losses {'ner': 43.116340148668314}\n",
            "Losses {'ner': 46.173263617663906}\n",
            "Losses {'ner': 45.04380788658264}\n",
            "Losses {'ner': 45.89233593204972}\n",
            "Losses {'ner': 41.27207831560008}\n",
            "Losses {'ner': 40.532527939314605}\n"
          ],
          "name": "stdout"
        }
      ]
    },
    {
      "cell_type": "code",
      "metadata": {
        "colab": {
          "base_uri": "https://localhost:8080/"
        },
        "id": "bxsnRCbVWL9G",
        "outputId": "421e36eb-9303-4ced-8ee9-fc53155ead3c"
      },
      "source": [
        "for text, _ in train:\n",
        "  doc =nlp(text)\n",
        "  print('Entities', [(ent.text, ent.label_) for ent in doc.ents])"
      ],
      "execution_count": null,
      "outputs": [
        {
          "output_type": "stream",
          "text": [
            "Entities [('savings account', 'PRODUCT')]\n",
            "Entities [('mortgage', 'PRODUCT')]\n",
            "Entities [('credit card', 'PRODUCT'), ('past due', 'ACTITVITY')]\n",
            "Entities []\n",
            "Entities [('credit card', 'PRODUCT')]\n",
            "Entities [('loan account', 'PRODUCT')]\n",
            "Entities [('checking account', 'PRODUCT')]\n"
          ],
          "name": "stdout"
        }
      ]
    },
    {
      "cell_type": "code",
      "metadata": {
        "colab": {
          "base_uri": "https://localhost:8080/",
          "height": 69
        },
        "id": "exxvu23gWL51",
        "outputId": "1849ff69-9e52-421d-b11b-fcc5f38e02ac"
      },
      "source": [
        "from spacy import displacy \n",
        "doc= nlp(\"What is the process to open new savings account\")\n",
        "for ent in doc.ents:\n",
        "  print(ent.text, ent.start_char, ent.end_char, ent.label_)\n",
        "displacy.render(nlp(doc.text), style='ent', jupyter=True)"
      ],
      "execution_count": null,
      "outputs": [
        {
          "output_type": "stream",
          "text": [
            "savings account 32 47 PRODUCT\n"
          ],
          "name": "stdout"
        },
        {
          "output_type": "display_data",
          "data": {
            "text/html": [
              "<span class=\"tex2jax_ignore\"><div class=\"entities\" style=\"line-height: 2.5; direction: ltr\">What is the process to open new \n",
              "<mark class=\"entity\" style=\"background: #bfeeb7; padding: 0.45em 0.6em; margin: 0 0.25em; line-height: 1; border-radius: 0.35em;\">\n",
              "    savings account\n",
              "    <span style=\"font-size: 0.8em; font-weight: bold; line-height: 1; border-radius: 0.35em; text-transform: uppercase; vertical-align: middle; margin-left: 0.5rem\">PRODUCT</span>\n",
              "</mark>\n",
              "</div></span>"
            ],
            "text/plain": [
              "<IPython.core.display.HTML object>"
            ]
          },
          "metadata": {
            "tags": []
          }
        }
      ]
    },
    {
      "cell_type": "code",
      "metadata": {
        "id": "NeQd7rFnVqjF"
      },
      "source": [
        ""
      ],
      "execution_count": null,
      "outputs": []
    }
  ]
}